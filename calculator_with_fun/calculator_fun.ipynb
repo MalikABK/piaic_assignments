{
 "cells": [
  {
   "cell_type": "code",
   "execution_count": 4,
   "metadata": {},
   "outputs": [
    {
     "name": "stdout",
     "output_type": "stream",
     "text": [
      "the sum of 12.0 and 30.0 is: \n"
     ]
    },
    {
     "data": {
      "text/plain": [
       "42.0"
      ]
     },
     "execution_count": 4,
     "metadata": {},
     "output_type": "execute_result"
    }
   ],
   "source": [
    "first: float= float(input(\"Please enter first value\\n\"))\n",
    "second: float= float(input(\"Please enter second value\\n\"))\n",
    "\n",
    "operations: str = input(\"Enter the operation (+,-,*,/)\")\n",
    "\n",
    "def add_num(first_value,second_value)  ->float:\n",
    "    tot\n",
    "    print(f\"the sum of {first_value} and {second_value} is: \")\n",
    "    return  first_value + second_value\n",
    "\n",
    "def sub_num(first_value,second_value)->float:\n",
    "    print(f\"the difference of {first_value} and {second_value} is: \")\n",
    "    return  first_value-second_value\n",
    "\n",
    "def multiply_num(first_value,second_value) -> float:\n",
    "    print(f\"the product of {first_value} and {second_value} is:\")\n",
    "    return first_value * second_value\n",
    "\n",
    "def divide_num(first_value, second_value) -> float:\n",
    "    if second_value == 0:\n",
    "        print(\"Error: Division by zero\")\n",
    "    else :\n",
    "        print(f\"the division of {first_value} and {second_value} is:\")\n",
    "        return  first_value / second_value\n",
    "    \n",
    "match operations: \n",
    "    case \"+\":\n",
    "        add_num(first, second)\n",
    "    case \"-\":\n",
    "        sub_num(first, second)\n",
    "    case \"*\":\n",
    "        multiply_num(first, second)\n",
    "    case \"/\":\n",
    "        divide_num(first, second)\n",
    "    \n",
    "    \n",
    "\n",
    "\n"
   ]
  }
 ],
 "metadata": {
  "kernelspec": {
   "display_name": "base",
   "language": "python",
   "name": "python3"
  },
  "language_info": {
   "codemirror_mode": {
    "name": "ipython",
    "version": 3
   },
   "file_extension": ".py",
   "mimetype": "text/x-python",
   "name": "python",
   "nbconvert_exporter": "python",
   "pygments_lexer": "ipython3",
   "version": "3.11.7"
  }
 },
 "nbformat": 4,
 "nbformat_minor": 2
}
