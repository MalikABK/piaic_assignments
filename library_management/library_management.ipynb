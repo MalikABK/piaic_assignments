{
 "cells": [
  {
   "cell_type": "code",
   "execution_count": 1,
   "metadata": {},
   "outputs": [],
   "source": [
    "books:list = []\n",
    "users:list = []\n",
    "\n",
    "books.append({\"id\": 1, \"title\": \"To Kill a Mockingbird\", \"author\": \"Harper Lee\", \"genre\": \"Fiction\", \"status\": \"Available\"})\n",
    "books.append({\"id\": 2, \"title\": \"1984\", \"author\": \"George Orwell\", \"genre\": \"Dystopian\", \"status\": \"Checked Out\"})\n",
    "books.append({\"id\": 3, \"title\": \"The Great Gatsby\", \"author\": \"F. Scott Fitzgerald\", \"genre\": \"Classic\", \"status\": \"Available\"})\n",
    "\n",
    "users.append({\"id\": 1, \"name\": \"Alice\", \"borrowed_books\": []})\n",
    "users.append({\"id\": 2, \"name\": \"Bob\", \"borrowed_books\": []})\n"
   ]
  },
  {
   "cell_type": "code",
   "execution_count": null,
   "metadata": {},
   "outputs": [],
   "source": [
    "print(books,users)"
   ]
  }
 ],
 "metadata": {
  "kernelspec": {
   "display_name": "base",
   "language": "python",
   "name": "python3"
  },
  "language_info": {
   "codemirror_mode": {
    "name": "ipython",
    "version": 3
   },
   "file_extension": ".py",
   "mimetype": "text/x-python",
   "name": "python",
   "nbconvert_exporter": "python",
   "pygments_lexer": "ipython3",
   "version": "3.11.7"
  }
 },
 "nbformat": 4,
 "nbformat_minor": 2
}
