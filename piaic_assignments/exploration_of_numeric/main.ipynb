{
 "cells": [
  {
   "cell_type": "code",
   "execution_count": 4,
   "metadata": {},
   "outputs": [
    {
     "name": "stdout",
     "output_type": "stream",
     "text": [
      "Hello, malik! Lets explore your favorite number: \n",
      "The number 4 is an even.\n",
      "The number 5 is an odd.\n",
      "The number 2 is an even.\n",
      "Number 4 is 16.\n",
      "Number 5 is 25.\n",
      "Number 2 is 4.\n",
      "The sum of your favorite numbers is 11.\n",
      "Wow, malik! The sum 11 is a prime number!\n"
     ]
    }
   ],
   "source": [
    "def is_prime(n):\n",
    "    \n",
    "    if n <= 1:\n",
    "        return False\n",
    "    if n == 2:\n",
    "        return True\n",
    "    if n % 2 == 0:\n",
    "        return False\n",
    "    for i in range(3, int(n ** 0.5) + 1, 2):\n",
    "        if n % i == 0:\n",
    "            return False\n",
    "    return True\n",
    "\n",
    "def main():\n",
    "    name: str = input(\"Enter your name: \")\n",
    "    num_list: list[int] = []\n",
    "    first_favorite_number: int = int(input(\"Enter your first favorite number: \"))\n",
    "    num_list.append(first_favorite_number)\n",
    "    second_favorite_number: int = int(input(\"Enter your second favorite number: \"))\n",
    "    num_list.append(second_favorite_number)\n",
    "    third_favorite_number: int = int(input(\"Enter your third favorite number: \"))\n",
    "    num_list.append(third_favorite_number)\n",
    "\n",
    "    print(f\"Hello, {name}! Lets explore your favorite number: \")\n",
    "\n",
    "    list_tuples: list[tuple[int, int]] = []\n",
    "\n",
    "    for num in num_list:\n",
    "        if num % 2 == 0:\n",
    "            print(f\"The number {num} is an even.\")\n",
    "            list_tuples.append((num, num**2))\n",
    "        else:\n",
    "            print(f\"The number {num} is an odd.\")\n",
    "            list_tuples.append((num, num**2))\n",
    "        \n",
    "    for num, square_num in list_tuples:\n",
    "            print(f\"Number {num} and it's square {square_num}.\")\n",
    "\n",
    "    total: int = sum(num_list)\n",
    "\n",
    "    print(f\"The sum of your favorite numbers is {total}.\")\n",
    "    \n",
    "    if is_prime(total):\n",
    "        print(f\"Amazing! The {total} is a prime number!\")\n",
    "    else:\n",
    "        print(f\"the {total} is not a prime number, but it's still special!\")\n",
    "\n",
    "if __name__ == \"__main__\":\n",
    "    main()\n",
    "\n",
    "\n",
    "\n",
    "\n",
    "\n"
   ]
  }
 ],
 "metadata": {
  "kernelspec": {
   "display_name": "base",
   "language": "python",
   "name": "python3"
  },
  "language_info": {
   "codemirror_mode": {
    "name": "ipython",
    "version": 3
   },
   "file_extension": ".py",
   "mimetype": "text/x-python",
   "name": "python",
   "nbconvert_exporter": "python",
   "pygments_lexer": "ipython3",
   "version": "3.11.7"
  }
 },
 "nbformat": 4,
 "nbformat_minor": 2
}
