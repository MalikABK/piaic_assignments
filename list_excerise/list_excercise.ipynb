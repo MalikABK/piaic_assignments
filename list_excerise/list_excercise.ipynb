{
 "cells": [
  {
   "cell_type": "code",
   "execution_count": 63,
   "metadata": {},
   "outputs": [
    {
     "name": "stdout",
     "output_type": "stream",
     "text": [
      "Ali\n",
      "Aslam\n",
      "Tariq\n",
      "Arif\n"
     ]
    }
   ],
   "source": [
    "name: list = ['Ali', 'Aslam', 'Tariq', 'Arif']\n",
    "print(name[0])\n",
    "print(name[1])\n",
    "print(name[2])\n",
    "print(name[3])"
   ]
  },
  {
   "cell_type": "code",
   "execution_count": 64,
   "metadata": {},
   "outputs": [
    {
     "name": "stdout",
     "output_type": "stream",
     "text": [
      "Hello, How are you? Ali\n",
      "Hello, How are you? Aslam\n",
      "Hello, How are you? Tariq\n",
      "Hello, How are you? Arif\n"
     ]
    }
   ],
   "source": [
    "print(f\"Hello, How are you? {name[0]}\")\n",
    "print(f\"Hello, How are you? {name[1]}\")\n",
    "print(f\"Hello, How are you? {name[2]}\")\n",
    "print(f\"Hello, How are you? {name[3]}\")"
   ]
  },
  {
   "cell_type": "code",
   "execution_count": 65,
   "metadata": {},
   "outputs": [
    {
     "name": "stdout",
     "output_type": "stream",
     "text": [
      "I would like to own a Toyota Corolla\n",
      "I would like to own a Honda Civic\n"
     ]
    }
   ],
   "source": [
    "favorite_transportation: list = ['Toyota Corolla', 'Honda Civic', ]\n",
    "\n",
    "print(f\"I would like to own a {favorite_transportation[0]}\")\n",
    "print(f\"I would like to own a {favorite_transportation[1]}\")"
   ]
  },
  {
   "cell_type": "code",
   "execution_count": 66,
   "metadata": {},
   "outputs": [
    {
     "name": "stdout",
     "output_type": "stream",
     "text": [
      "Hi Dear Malik Tariq  would you like to take a dinner with me?\n",
      "Hi Dear Mustafa would you like to take a dinner with me?\n",
      "Hi Dear Murtaza would you like to take a dinner with me?\n"
     ]
    }
   ],
   "source": [
    "inviting_friends: list = ['Malik Tariq', 'Mustafa', 'Murtaza']\n",
    "print(f\"Hi Dear {inviting_friends[0]}  would you like to take a dinner with me?\")\n",
    "\n",
    "print(f\"Hi Dear {inviting_friends[1]} would you like to take a dinner with me?\")\n",
    "\n",
    "print(f\"Hi Dear {inviting_friends[2]} would you like to take a dinner with me?\")                       \n",
    "\n"
   ]
  },
  {
   "cell_type": "code",
   "execution_count": 67,
   "metadata": {},
   "outputs": [
    {
     "name": "stdout",
     "output_type": "stream",
     "text": [
      "Unfortunately 'Murtaza' cannot make it.\n",
      "Hi Dear Malik Tariq would you like to take a dinner with me?\n",
      "Hi Dear Mustafa would you like to take a dinner with me?\n",
      "Hi Dear Muhammad Husnain would you like to take a dinner with me?\n"
     ]
    }
   ],
   "source": [
    "print(f\"Unfortunately '{inviting_friends[2]}' cannot make it.\")  \n",
    "inviting_friends[2] = \"Muhammad Husnain\"    \n",
    "\n",
    "print(f\"Hi Dear {inviting_friends[0]} would you like to take a dinner with me?\")\n",
    "print(f\"Hi Dear {inviting_friends[1]} would you like to take a dinner with me?\")\n",
    "print(f\"Hi Dear {inviting_friends[2]} would you like to take a dinner with me?\")\n",
    "\n",
    "\n"
   ]
  },
  {
   "cell_type": "code",
   "execution_count": 68,
   "metadata": {},
   "outputs": [
    {
     "name": "stdout",
     "output_type": "stream",
     "text": [
      "I found a bigger table!\n",
      "HI Dear Muhammad Madni I invite you on the dinner to night\n",
      "HI Dear Malik Tariq I invite you on the dinner to night\n",
      "HI Dear Muhammad Yousaf I invite you on the dinner to night\n",
      "HI Dear Mustafa I invite you on the dinner to night\n",
      "HI Dear Muhammad Husnain I invite you on the dinner to night\n",
      "HI Dear Muhammad Salman I invite you on the dinner to night\n"
     ]
    }
   ],
   "source": [
    "print(\"I found a bigger table!\")\n",
    "inviting_friends.insert(0, \"Muhammad Madni\")\n",
    "inviting_friends.insert(2, \"Muhammad Yousaf\")\n",
    "inviting_friends.append(\"Muhammad Salman\")\n",
    "print(f\"HI Dear {inviting_friends[0]} I invite you on the dinner to night\")\n",
    "print(f\"HI Dear {inviting_friends[1]} I invite you on the dinner to night\")\n",
    "print(f\"HI Dear {inviting_friends[2]} I invite you on the dinner to night\")\n",
    "print(f\"HI Dear {inviting_friends[3]} I invite you on the dinner to night\")\n",
    "print(f\"HI Dear {inviting_friends[4]} I invite you on the dinner to night\")\n",
    "print(f\"HI Dear {inviting_friends[5]} I invite you on the dinner to night\")\n",
    "\n"
   ]
  },
  {
   "cell_type": "code",
   "execution_count": 69,
   "metadata": {},
   "outputs": [
    {
     "name": "stdout",
     "output_type": "stream",
     "text": [
      "Sorry, I can invite only two people for dinner\n",
      "['Muhammad Madni', 'Malik Tariq', 'Muhammad Yousaf', 'Mustafa', 'Muhammad Husnain', 'Muhammad Salman']\n",
      "['Muhammad Madni', 'Malik Tariq', 'Muhammad Yousaf', 'Mustafa', 'Muhammad Husnain', 'Muhammad Salman']\n",
      "Sorry Muhammad Salman I can only invite two people for dinner.\n",
      "Sorry Muhammad Husnain I can only invite two people for dinner.\n",
      "Sorry Mustafa I can only invite two people for dinner.\n",
      "Sorry Muhammad Yousaf I can only invite two people for dinner.\n",
      "Dear Muhammad Madni your are still invited\n",
      "Dear Malik Tariq your are still invited\n",
      "[]\n"
     ]
    }
   ],
   "source": [
    "print(\"Sorry, I can invite only two people for dinner\")\n",
    "print(inviting_friends)\n",
    "print(inviting_friends)\n",
    "\n",
    "print(f\"Sorry {inviting_friends.pop()} I can only invite two people for dinner.\")\n",
    "print(f\"Sorry {inviting_friends.pop()} I can only invite two people for dinner.\")\n",
    "print(f\"Sorry {inviting_friends.pop()} I can only invite two people for dinner.\")\n",
    "print(f\"Sorry {inviting_friends.pop()} I can only invite two people for dinner.\")\n",
    "print(f\"Dear {inviting_friends[0]} your are still invited.\")\n",
    "print(f\"Dear {inviting_friends[1]} your are still invited.\")\n",
    "del inviting_friends[:]\n",
    "print(inviting_friends)\n"
   ]
  },
  {
   "cell_type": "code",
   "execution_count": 71,
   "metadata": {},
   "outputs": [
    {
     "name": "stdout",
     "output_type": "stream",
     "text": [
      "Original List:\n",
      "['Paris', 'Singapore', 'Landon', 'Dubai', 'Saudi Arabia']\n",
      "\n",
      "Alphabetical Order:\n",
      "['Dubai', 'Landon', 'Paris', 'Saudi Arabia', 'Singapore']\n",
      "\n",
      "Original List (unchanged):\n",
      "['Paris', 'Singapore', 'Landon', 'Dubai', 'Saudi Arabia']\n",
      "\n",
      "Reverse-Alphabetical Order:\n",
      "['Singapore', 'Saudi Arabia', 'Paris', 'Landon', 'Dubai']\n",
      "\n",
      "Original List (unchanged):\n",
      "['Paris', 'Singapore', 'Landon', 'Dubai', 'Saudi Arabia']\n",
      "\n",
      "Reversed List:\n",
      "['Saudi Arabia', 'Dubai', 'Landon', 'Singapore', 'Paris']\n",
      "\n",
      "Original List (restored):\n",
      "['Paris', 'Singapore', 'Landon', 'Dubai', 'Saudi Arabia']\n",
      "\n",
      "Alphabetical Order (sorted):\n",
      "['Dubai', 'Landon', 'Paris', 'Saudi Arabia', 'Singapore']\n",
      "\n",
      "Reverse-Alphabetical Order (sorted):\n",
      "['Singapore', 'Saudi Arabia', 'Paris', 'Landon', 'Dubai']\n"
     ]
    }
   ],
   "source": [
    "# Define the list of places to visit\n",
    "places_to_visit: list[str] = ['Paris', 'Singapore', 'Landon', 'Dubai', 'Saudi Arabia']\n",
    "\n",
    "print(\"Original List:\")\n",
    "print(places_to_visit)\n",
    "\n",
    "print(\"\\nAlphabetical Order:\")\n",
    "print(sorted(places_to_visit))\n",
    "\n",
    "print(\"\\nOriginal List (unchanged):\")\n",
    "print(places_to_visit)\n",
    "\n",
    "print(\"\\nReverse-Alphabetical Order:\")\n",
    "print(sorted(places_to_visit, reverse=True))\n",
    "\n",
    "print(\"\\nOriginal List (unchanged):\")\n",
    "print(places_to_visit)\n",
    "\n",
    "places_to_visit.reverse()\n",
    "print(\"\\nReversed List:\")\n",
    "print(places_to_visit)\n",
    "\n",
    "places_to_visit.reverse()\n",
    "print(\"\\nOriginal List (restored):\")\n",
    "print(places_to_visit)\n",
    "\n",
    "places_to_visit.sort()\n",
    "print(\"\\nAlphabetical Order (sorted):\")\n",
    "print(places_to_visit)\n",
    "\n",
    "places_to_visit.sort(reverse=True)\n",
    "print(\"\\nReverse-Alphabetical Order (sorted):\")\n",
    "print(places_to_visit)\n"
   ]
  },
  {
   "cell_type": "code",
   "execution_count": 2,
   "metadata": {},
   "outputs": [
    {
     "name": "stdout",
     "output_type": "stream",
     "text": [
      "['mountain', 'rivers', 'cities', 'languages']\n",
      "geting the fisrt value from the list is mountain\n",
      "['mountain', 'rivers', 'cities', 'languages', 'beaches']\n",
      "['mountain', 'rivers', ' deserts', 'cities', 'languages', 'beaches']\n",
      "['mountain', 'rivers', ' deserts', 'cities', 'languages']\n",
      "['mountain', ' deserts', 'cities', 'languages']\n",
      "[' deserts', 'cities', 'languages']\n",
      "['languages', 'cities', ' deserts']\n",
      "[' deserts', 'cities', 'languages']\n",
      "['languages', 'cities', ' deserts']\n",
      "[' deserts', 'cities', 'languages']\n",
      "['languages', 'cities', ' deserts']\n",
      "['languages', 'cities', ' deserts']\n",
      "['languages', 'cities', ' deserts', 'maze world', 'cars', 'bus']\n",
      "1\n",
      "[]\n"
     ]
    }
   ],
   "source": [
    "list_of_things: list[str] = ['mountain', 'rivers', 'cities', 'languages']\n",
    "print(list_of_things)\n",
    "# get the values from the list\n",
    "print(f\"geting the fisrt value from the list is {list_of_things[0]}\")\n",
    "# add the values to the list at end of the list\n",
    "\n",
    "list_of_things.append('beaches')\n",
    "print(list_of_things)\n",
    "\n",
    "# add the values to the list at specific index\n",
    "\n",
    "list_of_things.insert(2, ' deserts')\n",
    "print(list_of_things)\n",
    "\n",
    "# remove the value from the list at the end of list\n",
    "\n",
    "list_of_things.pop()\n",
    "print(list_of_things)\n",
    "\n",
    "# remove the value from the list at specific index\n",
    "\n",
    "list_of_things.pop(1)\n",
    "print(list_of_things)\n",
    "\n",
    "# remove the value from the list using the value\n",
    "\n",
    "list_of_things.remove('mountain')\n",
    "print(list_of_things)\n",
    "\n",
    "# reverse the list\n",
    "\n",
    "list_of_things.reverse()\n",
    "print(list_of_things)\n",
    "\n",
    "# sort the list useing sorted() so that the orginal order is not changed\n",
    "\n",
    "sorted_list = sorted(list_of_things)\n",
    "print(sorted_list)\n",
    "\n",
    "# sort the list in reverse order using sorted()\n",
    "\n",
    "sorted_list_reverse = sorted(list_of_things, reverse=True)\n",
    "print(sorted_list_reverse)\n",
    "\n",
    "# sort the list using sort() so that the orginal order is changed.\n",
    "\n",
    "list_of_things.sort()\n",
    "print(list_of_things)\n",
    "\n",
    "# sort the list in reverse order using sort()\n",
    "\n",
    "list_of_things.sort(reverse=True)\n",
    "print(list_of_things)\n",
    "\n",
    "# coping the list of things\n",
    "\n",
    "new_list = list_of_things.copy()\n",
    "print(new_list)\n",
    "\n",
    "# extend the list of things with a new list\n",
    "\n",
    "add_list: list[str] = ['maze world', 'cars', 'bus']\n",
    "\n",
    "list_of_things.extend(add_list)\n",
    "print(list_of_things)\n",
    "\n",
    "# count the number of values in the list\n",
    "number_of_values: int = list_of_things.count('bus')\n",
    "print(number_of_values)\n",
    "\n",
    "# clear the list\n",
    "\n",
    "list_of_things.clear()\n",
    "print(list_of_things)\n",
    "\n",
    "\n",
    "\n"
   ]
  },
  {
   "cell_type": "code",
   "execution_count": 4,
   "metadata": {},
   "outputs": [
    {
     "name": "stdout",
     "output_type": "stream",
     "text": [
      "['languages', 'cities', ' deserts']\n"
     ]
    },
    {
     "ename": "IndexError",
     "evalue": "list index out of range",
     "output_type": "error",
     "traceback": [
      "\u001b[1;31m---------------------------------------------------------------------------\u001b[0m",
      "\u001b[1;31mIndexError\u001b[0m                                Traceback (most recent call last)",
      "Cell \u001b[1;32mIn[4], line 4\u001b[0m\n\u001b[0;32m      1\u001b[0m \u001b[38;5;28mprint\u001b[39m(new_list)\n\u001b[0;32m      3\u001b[0m \u001b[38;5;66;03m# try to make the intentional Error in case of indexing problems\u001b[39;00m\n\u001b[1;32m----> 4\u001b[0m \u001b[38;5;28mprint\u001b[39m(\u001b[43mnew_list\u001b[49m\u001b[43m[\u001b[49m\u001b[38;5;241;43m3\u001b[39;49m\u001b[43m]\u001b[49m)\n",
      "\u001b[1;31mIndexError\u001b[0m: list index out of range"
     ]
    }
   ],
   "source": [
    "print(new_list)\n",
    "\n",
    "# try to make the intentional Error in case of indexing problems\n",
    "print(new_list[3])"
   ]
  },
  {
   "cell_type": "code",
   "execution_count": 5,
   "metadata": {},
   "outputs": [
    {
     "name": "stdout",
     "output_type": "stream",
     "text": [
      " deserts\n"
     ]
    }
   ],
   "source": [
    "print(new_list[2])"
   ]
  }
 ],
 "metadata": {
  "kernelspec": {
   "display_name": "base",
   "language": "python",
   "name": "python3"
  },
  "language_info": {
   "codemirror_mode": {
    "name": "ipython",
    "version": 3
   },
   "file_extension": ".py",
   "mimetype": "text/x-python",
   "name": "python",
   "nbconvert_exporter": "python",
   "pygments_lexer": "ipython3",
   "version": "3.11.7"
  }
 },
 "nbformat": 4,
 "nbformat_minor": 2
}
